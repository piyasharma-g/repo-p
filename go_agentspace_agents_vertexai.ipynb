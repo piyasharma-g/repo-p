{
  "cells": [
    {
      "cell_type": "markdown",
      "metadata": {
        "id": "view-in-github",
        "colab_type": "text"
      },
      "source": [
        "<a href=\"https://colab.research.google.com/github/piyasharma-g/repo-p/blob/main/go_agentspace_agents_vertexai.ipynb\" target=\"_parent\"><img src=\"https://colab.research.google.com/assets/colab-badge.svg\" alt=\"Open In Colab\"/></a>"
      ]
    },
    {
      "cell_type": "markdown",
      "source": [
        "# go/agentspace-agents-vertexai\n",
        "* Deploy Agentspace agents using Vertex AI\n",
        "* Continuously tested and updated with public [ADK](https://github.com/google/adk-python)\n",
        "* For issues or suggestions, contact @artw\n",
        "* Special thanks to feedback from @krzysiekw, @jamag, @ykoh, @ajiteshk"
      ],
      "metadata": {
        "id": "PHXpR9t7ws0u"
      }
    },
    {
      "cell_type": "markdown",
      "source": [
        "# 1. Create an Agentspace app\n",
        "If you don't have an Agentspace app, follow instructions here:\n",
        "https://docs.google.com/document/d/1Mkmi7cCXXavUB6ZQYIAp1CIE7mv7Dl0PyN0OZWUufvI"
      ],
      "metadata": {
        "id": "x428L70wwbbi"
      }
    },
    {
      "cell_type": "markdown",
      "source": [
        "# 2. Install ADK, Agent Engines, and your other required libraries"
      ],
      "metadata": {
        "id": "aQIhTY4Oq4sA"
      }
    },
    {
      "cell_type": "code",
      "execution_count": null,
      "metadata": {
        "id": "5QhSlxfXF5Q7",
        "colab": {
          "base_uri": "https://localhost:8080/"
        },
        "outputId": "19a09603-7900-4ca6-dd55-5f2e22356293"
      },
      "outputs": [
        {
          "output_type": "stream",
          "name": "stdout",
          "text": [
            "\u001b[?25l   \u001b[90m━━━━━━━━━━━━━━━━━━━━━━━━━━━━━━━━━━━━━━━━\u001b[0m \u001b[32m0.0/1.2 MB\u001b[0m \u001b[31m?\u001b[0m eta \u001b[36m-:--:--\u001b[0m\r\u001b[2K   \u001b[91m━━━━━━━━━━━━━━━━━━━━━━━━━━━━━━━━━━━━━━━\u001b[0m\u001b[91m╸\u001b[0m \u001b[32m1.2/1.2 MB\u001b[0m \u001b[31m41.4 MB/s\u001b[0m eta \u001b[36m0:00:01\u001b[0m\r\u001b[2K   \u001b[90m━━━━━━━━━━━━━━━━━━━━━━━━━━━━━━━━━━━━━━━━\u001b[0m \u001b[32m1.2/1.2 MB\u001b[0m \u001b[31m25.4 MB/s\u001b[0m eta \u001b[36m0:00:00\u001b[0m\n",
            "\u001b[?25h\u001b[?25l   \u001b[90m━━━━━━━━━━━━━━━━━━━━━━━━━━━━━━━━━━━━━━━━\u001b[0m \u001b[32m0.0/232.1 kB\u001b[0m \u001b[31m?\u001b[0m eta \u001b[36m-:--:--\u001b[0m\r\u001b[2K   \u001b[90m━━━━━━━━━━━━━━━━━━━━━━━━━━━━━━━━━━━━━━━━\u001b[0m \u001b[32m232.1/232.1 kB\u001b[0m \u001b[31m15.6 MB/s\u001b[0m eta \u001b[36m0:00:00\u001b[0m\n",
            "\u001b[2K   \u001b[90m━━━━━━━━━━━━━━━━━━━━━━━━━━━━━━━━━━━━━━━━\u001b[0m \u001b[32m95.2/95.2 kB\u001b[0m \u001b[31m7.0 MB/s\u001b[0m eta \u001b[36m0:00:00\u001b[0m\n",
            "\u001b[2K   \u001b[90m━━━━━━━━━━━━━━━━━━━━━━━━━━━━━━━━━━━━━━━━\u001b[0m \u001b[32m7.6/7.6 MB\u001b[0m \u001b[31m98.3 MB/s\u001b[0m eta \u001b[36m0:00:00\u001b[0m\n",
            "\u001b[2K   \u001b[90m━━━━━━━━━━━━━━━━━━━━━━━━━━━━━━━━━━━━━━━━\u001b[0m \u001b[32m229.5/229.5 kB\u001b[0m \u001b[31m13.0 MB/s\u001b[0m eta \u001b[36m0:00:00\u001b[0m\n",
            "\u001b[2K   \u001b[90m━━━━━━━━━━━━━━━━━━━━━━━━━━━━━━━━━━━━━━━━\u001b[0m \u001b[32m217.1/217.1 kB\u001b[0m \u001b[31m12.7 MB/s\u001b[0m eta \u001b[36m0:00:00\u001b[0m\n",
            "\u001b[2K   \u001b[90m━━━━━━━━━━━━━━━━━━━━━━━━━━━━━━━━━━━━━━━━\u001b[0m \u001b[32m334.1/334.1 kB\u001b[0m \u001b[31m22.1 MB/s\u001b[0m eta \u001b[36m0:00:00\u001b[0m\n",
            "\u001b[2K   \u001b[90m━━━━━━━━━━━━━━━━━━━━━━━━━━━━━━━━━━━━━━━━\u001b[0m \u001b[32m103.3/103.3 kB\u001b[0m \u001b[31m5.9 MB/s\u001b[0m eta \u001b[36m0:00:00\u001b[0m\n",
            "\u001b[2K   \u001b[90m━━━━━━━━━━━━━━━━━━━━━━━━━━━━━━━━━━━━━━━━\u001b[0m \u001b[32m125.1/125.1 kB\u001b[0m \u001b[31m7.4 MB/s\u001b[0m eta \u001b[36m0:00:00\u001b[0m\n",
            "\u001b[2K   \u001b[90m━━━━━━━━━━━━━━━━━━━━━━━━━━━━━━━━━━━━━━━━\u001b[0m \u001b[32m65.8/65.8 kB\u001b[0m \u001b[31m3.8 MB/s\u001b[0m eta \u001b[36m0:00:00\u001b[0m\n",
            "\u001b[2K   \u001b[90m━━━━━━━━━━━━━━━━━━━━━━━━━━━━━━━━━━━━━━━━\u001b[0m \u001b[32m119.0/119.0 kB\u001b[0m \u001b[31m8.1 MB/s\u001b[0m eta \u001b[36m0:00:00\u001b[0m\n",
            "\u001b[2K   \u001b[90m━━━━━━━━━━━━━━━━━━━━━━━━━━━━━━━━━━━━━━━━\u001b[0m \u001b[32m194.9/194.9 kB\u001b[0m \u001b[31m12.5 MB/s\u001b[0m eta \u001b[36m0:00:00\u001b[0m\n",
            "\u001b[2K   \u001b[90m━━━━━━━━━━━━━━━━━━━━━━━━━━━━━━━━━━━━━━━━\u001b[0m \u001b[32m62.5/62.5 kB\u001b[0m \u001b[31m3.9 MB/s\u001b[0m eta \u001b[36m0:00:00\u001b[0m\n",
            "\u001b[2K   \u001b[90m━━━━━━━━━━━━━━━━━━━━━━━━━━━━━━━━━━━━━━━━\u001b[0m \u001b[32m44.4/44.4 kB\u001b[0m \u001b[31m2.8 MB/s\u001b[0m eta \u001b[36m0:00:00\u001b[0m\n",
            "\u001b[2K   \u001b[90m━━━━━━━━━━━━━━━━━━━━━━━━━━━━━━━━━━━━━━━━\u001b[0m \u001b[32m72.0/72.0 kB\u001b[0m \u001b[31m4.4 MB/s\u001b[0m eta \u001b[36m0:00:00\u001b[0m\n",
            "\u001b[?25h"
          ]
        }
      ],
      "source": [
        "!pip3 install -qq -U google-adk deprecated \"google-cloud-aiplatform[agent_engines]\""
      ]
    },
    {
      "cell_type": "markdown",
      "source": [
        "## 2b. Restart notebook after installing libraries above"
      ],
      "metadata": {
        "id": "yiaVMFfSm2H3"
      }
    },
    {
      "cell_type": "code",
      "execution_count": null,
      "metadata": {
        "id": "NOkH3GmbsRLZ",
        "colab": {
          "base_uri": "https://localhost:8080/"
        },
        "outputId": "ecad5b06-bf15-4c03-b4a0-24aae1888981"
      },
      "outputs": [
        {
          "output_type": "execute_result",
          "data": {
            "text/plain": [
              "{'status': 'ok', 'restart': True}"
            ]
          },
          "metadata": {},
          "execution_count": 4
        }
      ],
      "source": [
        "import IPython\n",
        "\n",
        "app = IPython.Application.instance()\n",
        "app.kernel.do_shutdown(True)"
      ]
    },
    {
      "cell_type": "markdown",
      "metadata": {
        "id": "lz5Yy_jXH-Ur"
      },
      "source": [
        "# 3. Authenticate\n",
        "We'll use `ucs-ga-fishfood-1` in this notebook as an example but be sure to substitute it with your own project."
      ]
    },
    {
      "cell_type": "code",
      "source": [
        "import os\n",
        "\n",
        "PROJECT_ID = \"ucs-ga-fishfood-1\"  # @param {type:\"string\"}\n",
        "LOCATION = \"us-central1\" # @param {type:\"string\"}\n",
        "GCS_BUCKET = \"gs://agent-deployment-pantheon\" # @param {type:\"string\"}\n",
        "\n",
        "from google.colab import auth\n",
        "auth.authenticate_user(project_id=PROJECT_ID)\n",
        "\n",
        "os.environ[\"GOOGLE_GENAI_USE_VERTEXAI\"] = \"1\"\n",
        "os.environ[\"GOOGLE_CLOUD_PROJECT\"] = PROJECT_ID\n",
        "os.environ[\"GOOGLE_CLOUD_LOCATION\"] = LOCATION"
      ],
      "metadata": {
        "id": "r4G3iNZWsjnf"
      },
      "execution_count": null,
      "outputs": []
    },
    {
      "cell_type": "markdown",
      "source": [
        "## 3b. Ensure necessary libraries are imported"
      ],
      "metadata": {
        "id": "AbIlu2U8nB5U"
      }
    },
    {
      "cell_type": "code",
      "execution_count": null,
      "metadata": {
        "id": "uBxszkuaxUIh"
      },
      "outputs": [],
      "source": [
        "from google.adk import Agent\n",
        "\n",
        "import vertexai\n",
        "from vertexai import agent_engines\n",
        "\n",
        "vertexai.init(\n",
        "    project=PROJECT_ID,\n",
        "    location=LOCATION,\n",
        "    staging_bucket=GCS_BUCKET,\n",
        ")"
      ]
    },
    {
      "cell_type": "markdown",
      "metadata": {
        "id": "Umqr6K3R9mK8"
      },
      "source": [
        "# 4. Define agent"
      ]
    },
    {
      "cell_type": "code",
      "execution_count": null,
      "metadata": {
        "id": "RT4kR0iyEiqq"
      },
      "outputs": [],
      "source": [
        "def roll_die(sides: int) -> int:\n",
        " \"\"\"Roll a die and return the rolled result.\n",
        "\n",
        "\n",
        " Args:\n",
        "   sides: The integer number of sides the die has.\n",
        "\n",
        "\n",
        " Returns:\n",
        "   An integer of the result of rolling the die.\n",
        " \"\"\"\n",
        " import random\n",
        "\n",
        "\n",
        " return random.randint(1, sides)\n",
        "\n",
        "\n",
        "def check_prime(nums: list[int]) -> list[str]:\n",
        " \"\"\"Check if a given list of numbers are prime.\n",
        "\n",
        "\n",
        " Args:\n",
        "   nums: The list of numbers to check.\n",
        "\n",
        "\n",
        " Returns:\n",
        "   A str indicating which number is prime.\n",
        " \"\"\"\n",
        "\n",
        "\n",
        " primes = set()\n",
        " for number in nums:\n",
        "   number = int(number)\n",
        "   if number <= 1:\n",
        "     continue\n",
        "   is_prime = True\n",
        "   for i in range(2, int(number**0.5) + 1):\n",
        "     if number % i == 0:\n",
        "       is_prime = False\n",
        "       break\n",
        "   if is_prime:\n",
        "     primes.add(number)\n",
        " return (\n",
        "     'No prime numbers found.'\n",
        "     if not primes\n",
        "     else f\"{', '.join(str(num) for num in primes)} are prime numbers.\"\n",
        " )\n",
        "\n",
        "\n",
        "root_agent = Agent(\n",
        "   model=\"gemini-2.0-flash-001\",\n",
        "   name='dice_rolling_agent',\n",
        "   instruction=\"\"\"\n",
        "     You roll dice and answer questions about the outcome of the dice rolls.\n",
        "     You can roll dice of different sizes.\n",
        "     You can use multiple tools in parallel by calling functions in parallel(in one request and in one round).\n",
        "     The only things you do are roll dice for the user and discuss the outcomes.\n",
        "     It is ok to discuss previous dice roles, and comment on the dice rolls.\n",
        "     When you are asked to roll a die, you must call the roll_die tool with the number of sides. Be sure to pass in an integer. Do not pass in a string.\n",
        "     You should never roll a die on your own.\n",
        "     When checking prime numbers, call the check_prime tool with a list of integers. Be sure to pass in a list of integers. You should never pass in a string.\n",
        "     You should not check prime numbers before calling the tool.\n",
        "     When you are asked to roll a die and check prime numbers, you should always make the following two function calls:\n",
        "     1. You should first call the roll_die tool to get a roll. Wait for the function response before calling the check_prime tool.\n",
        "     2. After you get the function response from roll_die tool, you should call the check_prime tool with the roll_die result.\n",
        "       2.1 If user asks you to check primes based on previous rolls, make sure you include the previous rolls in the list.\n",
        "     3. When you respond, you must include the roll_die result from step 1.\n",
        "     You should always perform the previous 3 steps when asking for a roll and checking prime numbers.\n",
        "     You should not rely on the previous history on prime results.\n",
        "   \"\"\",\n",
        "   tools=[roll_die, check_prime],\n",
        ")"
      ]
    },
    {
      "cell_type": "markdown",
      "metadata": {
        "id": "4yRbuebi-Zh6"
      },
      "source": [
        "# 5. Define wrapper app"
      ]
    },
    {
      "cell_type": "code",
      "execution_count": null,
      "metadata": {
        "id": "k6gcLo7zzV0j"
      },
      "outputs": [],
      "source": [
        "from vertexai.preview import reasoning_engines\n",
        "\n",
        "app = reasoning_engines.AdkApp(\n",
        "    agent=root_agent,\n",
        "    enable_tracing=True,\n",
        ")"
      ]
    },
    {
      "cell_type": "markdown",
      "source": [
        "## Test locally"
      ],
      "metadata": {
        "id": "ucyIeFT5hTjN"
      }
    },
    {
      "cell_type": "code",
      "source": [
        "session = app.create_session(user_id=\"u_123\")\n",
        "for event in app.stream_query(\n",
        "    user_id=\"u_123\",\n",
        "    session_id=session.id,\n",
        "    message=\"roll a 6-sided die\",\n",
        "):\n",
        "  print(event)"
      ],
      "metadata": {
        "colab": {
          "base_uri": "https://localhost:8080/"
        },
        "id": "KwB72j8v1-eF",
        "outputId": "3648b89b-d4c8-49db-9352-1b3ca7b8adbe"
      },
      "execution_count": null,
      "outputs": [
        {
          "output_type": "stream",
          "name": "stderr",
          "text": [
            "WARNING:google_genai.types:Warning: there are non-text parts in the response: ['function_call'],returning concatenated text result from text parts,check out the non text parts for full response from model.\n"
          ]
        },
        {
          "output_type": "stream",
          "name": "stdout",
          "text": [
            "{'content': {'parts': [{'function_call': {'id': 'adk-0d668c39-c577-4b70-9735-5118708445ea', 'args': {'sides': 6}, 'name': 'roll_die'}}], 'role': 'model'}, 'invocation_id': 'e-0d780843-1d11-4b91-a8a2-a3aafc18f60d', 'author': 'dice_rolling_agent', 'actions': {'state_delta': {}, 'artifact_delta': {}, 'requested_auth_configs': {}}, 'long_running_tool_ids': set(), 'id': 'ZpkX1Z0h', 'timestamp': 1747916413.959229}\n",
            "{'content': {'parts': [{'function_response': {'id': 'adk-0d668c39-c577-4b70-9735-5118708445ea', 'name': 'roll_die', 'response': {'result': 5}}}], 'role': 'user'}, 'invocation_id': 'e-0d780843-1d11-4b91-a8a2-a3aafc18f60d', 'author': 'dice_rolling_agent', 'actions': {'state_delta': {}, 'artifact_delta': {}, 'requested_auth_configs': {}}, 'id': 'C8Tx0bM5', 'timestamp': 1747916415.783834}\n",
            "{'content': {'parts': [{'text': 'I rolled a 6-sided die and got a 5.\\n'}], 'role': 'model'}, 'invocation_id': 'e-0d780843-1d11-4b91-a8a2-a3aafc18f60d', 'author': 'dice_rolling_agent', 'actions': {'state_delta': {}, 'artifact_delta': {}, 'requested_auth_configs': {}}, 'id': 'fXx751N9', 'timestamp': 1747916415.786961}\n"
          ]
        }
      ]
    },
    {
      "cell_type": "code",
      "source": [
        "agent_context = '{\"message\":{\"role\":\"user\",\"parts\":[{\"text\":\"How were you built?\"}]},\"events\":[{\"content\":{\"role\":\"user\",\"parts\":[{\"text\":\"how were you built ?\"}]},\"author\":\"AgentSpace_root_agent\"},{\"content\":{\"role\":\"model\",\"parts\":[{\"functionCall\":{\"name\":\"agentspaceak\",\"args\":{\"question\":\"How were you built?\"},\"id\":\"14076651604820872102\"}}]},\"invocation_id\":\"14076651604820871801\",\"author\":\"AgentSpace_root_agent\",\"id\":\"14076651604820872102\"}]}'\n",
        "for response in app.streaming_agent_run_with_events(agent_context):\n",
        "    for event in response[\"events\"]:\n",
        "      print(event)"
      ],
      "metadata": {
        "id": "o8eobwtbz8_P"
      },
      "execution_count": null,
      "outputs": []
    },
    {
      "cell_type": "markdown",
      "source": [
        "# 6. Deploy to GCP"
      ],
      "metadata": {
        "id": "8Tm-cjuPsSnZ"
      }
    },
    {
      "cell_type": "code",
      "source": [
        "from vertexai import agent_engines\n",
        "\n",
        "deployed_engine = agent_engines.create(\n",
        "    agent_engine=app,\n",
        "    display_name=\"DICE_AGENT\",\n",
        "    requirements=[\n",
        "        \"google-adk\",\n",
        "        \"google-cloud-aiplatform[agent_engines]\",\n",
        "        \"deprecated\"\n",
        "    ],\n",
        "    extra_packages=[\n",
        "    ],\n",
        ")"
      ],
      "metadata": {
        "id": "6CktAJuLsOi0"
      },
      "execution_count": null,
      "outputs": []
    },
    {
      "cell_type": "markdown",
      "source": [
        "# 7. Add Authorization (if you need it)\n",
        "7a. Add an OAuth 2.0 client with proper scopes and redirect URL:\n",
        "https://vertexaisearch.cloud.google.com/oauth-redirect\n",
        "\n",
        "Example below is based on [Google's OAuth 2.0 client](https://support.google.com/googleapi/answer/6158849):\n",
        "- From the GCP console, search for \"OAuth consent screen\"\n",
        "- Create an OAuth 2.0 client for Web application\n",
        "- Add the redirect URL specified above\n",
        "- Click **Create**\n",
        "- Download the `client_secret.json` and upload it here\n",
        "- Run the Python script below to obtain the authorization URI\n",
        "\n",
        "For other 3rd party OAuth clients, follow their documentation to obtain authorization information."
      ],
      "metadata": {
        "id": "0GvppVs41AaJ"
      }
    },
    {
      "cell_type": "code",
      "source": [
        "import google.oauth2.credentials\n",
        "import google_auth_oauthlib.flow\n",
        "\n",
        "# Required, call the from_client_secrets_file method to retrieve the client ID from a\n",
        "# client_secret.json file. The client ID (from that file) and access scopes are required. (You can\n",
        "# also use the from_client_config method, which passes the client configuration as it originally\n",
        "# appeared in a client secrets file but doesn't access the file itself.)\n",
        "flow = google_auth_oauthlib.flow.Flow.from_client_secrets_file('client_secret.json',\n",
        "    scopes=['https://www.googleapis.com/auth/drive.metadata.readonly',\n",
        "            'https://www.googleapis.com/auth/calendar.readonly'])\n",
        "\n",
        "# Required, indicate where the API server will redirect the user after the user completes\n",
        "# the authorization flow. The redirect URI is required. The value must exactly\n",
        "# match one of the authorized redirect URIs for the OAuth 2.0 client, which you\n",
        "# configured in the API Console. If this value doesn't match an authorized URI,\n",
        "# you will get a 'redirect_uri_mismatch' error.\n",
        "flow.redirect_uri = 'https://vertexaisearch.cloud.google.com/oauth-redirect'\n",
        "\n",
        "# Generate URL for request to Google's OAuth 2.0 server.\n",
        "# Use kwargs to set optional request parameters.\n",
        "authorization_url, state = flow.authorization_url(\n",
        "    # Recommended, enable offline access so that you can refresh an access token without\n",
        "    # re-prompting the user for permission. Recommended for web server apps.\n",
        "    access_type='offline',\n",
        "    # Optional, enable incremental authorization. Recommended as a best practice.\n",
        "    include_granted_scopes='true',\n",
        "    # Optional, if your application knows which user is trying to authenticate, it can use this\n",
        "    # parameter to provide a hint to the Google Authentication Server.\n",
        "    login_hint='hint@example.com',\n",
        "    # Optional, set prompt to 'consent' will prompt the user for consent\n",
        "    prompt='consent')\n",
        "print('OAUTH_AUTH_URI:')\n",
        "print(authorization_url)"
      ],
      "metadata": {
        "id": "eoqkRIj9lhy3",
        "colab": {
          "base_uri": "https://localhost:8080/"
        },
        "outputId": "fa0768d2-1fab-42c0-ed56-555ad6f05f9f"
      },
      "execution_count": null,
      "outputs": [
        {
          "output_type": "stream",
          "name": "stdout",
          "text": [
            "OAUTH_AUTH_URI:\n",
            "https://accounts.google.com/o/oauth2/auth?response_type=code&client_id=862721868538-ep7fj2ldbnqcto289rmmbnfe11atdq73.apps.googleusercontent.com&redirect_uri=https%3A%2F%2Fvertexaisearch.cloud.google.com%2Foauth-redirect&scope=https%3A%2F%2Fwww.googleapis.com%2Fauth%2Fdrive.metadata.readonly+https%3A%2F%2Fwww.googleapis.com%2Fauth%2Fcalendar.readonly&state=kh7gAm5Z815uMj7FBNZXIQCCNAqTYV&access_type=offline&include_granted_scopes=true&login_hint=hint%40example.com&prompt=consent\n"
          ]
        }
      ]
    },
    {
      "cell_type": "markdown",
      "source": [
        "7b. Then link the authorization to Agentspace below.\n",
        "- Make something up for `AUTH_ID` and save it to reference later.\n",
        "- Enter the `OAUTH_CLIENT_ID` and `OAUTH_CLIENT_SECRET` from the OAuth client setup in the previous steps.\n",
        "- Ensure that `OAUTH_TOKEN_URI` is what your service requires. Example used here is for Google APIs."
      ],
      "metadata": {
        "id": "TH1FuAc0mFyU"
      }
    },
    {
      "cell_type": "code",
      "source": [
        "%%bash\n",
        "export PROJECT_NUMBER=\"862721868538\"\n",
        "export AUTH_ID=\"madeup-id-123\"\n",
        "export OAUTH_CLIENT_ID=\"XXXXXX\"\n",
        "export OAUTH_CLIENT_SECRET=\"XXXXXX\"\n",
        "export OAUTH_AUTH_URI=\"https://accounts.google.com/o/oauth2/auth?response_type=code&client_id=862721868538-ep7fj2ldbnqcto289rmmbnfe11atdq73.apps.googleusercontent.com&redirect_uri=https%3A%2F%2Fvertexaisearch.cloud.google.com%2Foauth-redirect&scope=https%3A%2F%2Fwww.googleapis.com%2Fauth%2Fdrive.metadata.readonly+https%3A%2F%2Fwww.googleapis.com%2Fauth%2Fcalendar.readonly&state=kh7gAm5Z815uMj7FBNZXIQCCNAqTYV&access_type=offline&include_granted_scopes=true&login_hint=hint%40example.com&prompt=consent\"\n",
        "export OAUTH_TOKEN_URI=\"https://oauth2.googleapis.com/token\"\n",
        "\n",
        "curl -X POST \\\n",
        "  -H \"Authorization: Bearer $(gcloud auth print-access-token)\" \\\n",
        "  -H \"Content-Type: application/json\" \\\n",
        "  -H \"X-Goog-User-Project: ${PROJECT_NUMBER}\" \\\n",
        "https://discoveryengine.googleapis.com/v1alpha/projects/${PROJECT_NUMBER}/locations/global/authorizations?authorizationId=${AUTH_ID} \\\n",
        "  -d '{\n",
        "  \"name\": \"projects/'\"${PROJECT_NUMBER}\"'/locations/global/authorizations/'\"${AUTH_ID}\"'\",\n",
        "  \"serverSideOauth2\": {\n",
        "      \"clientId\": \"'\"${OAUTH_CLIENT_ID}\"'\",\n",
        "      \"clientSecret\": \"'\"${OAUTH_CLIENT_SECRET}\"'\",\n",
        "      \"authorizationUri\": \"'\"${OAUTH_AUTH_URI}\"'\",\n",
        "      \"tokenUri\": \"'\"${OAUTH_TOKEN_URI}\"'\"\n",
        "    }\n",
        "  }'"
      ],
      "metadata": {
        "colab": {
          "base_uri": "https://localhost:8080/"
        },
        "id": "OgiHUwX610-K",
        "outputId": "b35c64e0-9509-43ed-d39a-51f6a483c85c"
      },
      "execution_count": null,
      "outputs": [
        {
          "output_type": "stream",
          "name": "stdout",
          "text": [
            "{\n",
            "  \"name\": \"projects/862721868538/locations/global/authorizations/madeup-id-123\",\n",
            "  \"serverSideOauth2\": {\n",
            "    \"clientId\": \"XXXXXX\",\n",
            "    \"clientSecret\": \"XXXXXX\",\n",
            "    \"tokenUri\": \"https://oauth2.googleapis.com/token\",\n",
            "    \"authorizationUri\": \"https://accounts.google.com/o/oauth2/auth?response_type=code&client_id=862721868538-ep7fj2ldbnqcto289rmmbnfe11atdq73.apps.googleusercontent.com&redirect_uri=https%3A%2F%2Fvertexaisearch.cloud.google.com%2Foauth-redirect&scope=https%3A%2F%2Fwww.googleapis.com%2Fauth%2Fdrive.metadata.readonly+https%3A%2F%2Fwww.googleapis.com%2Fauth%2Fcalendar.readonly&state=kh7gAm5Z815uMj7FBNZXIQCCNAqTYV&access_type=offline&include_granted_scopes=true&login_hint=hint%40example.com&prompt=consent\"\n",
            "  }\n",
            "}\n"
          ]
        },
        {
          "output_type": "stream",
          "name": "stderr",
          "text": [
            "  % Total    % Received % Xferd  Average Speed   Time    Time     Time  Current\n",
            "                                 Dload  Upload   Total   Spent    Left  Speed\n",
            "\r  0     0    0     0    0     0      0      0 --:--:-- --:--:-- --:--:--     0\r100  1475    0   732  100   743   1915   1944 --:--:-- --:--:-- --:--:--  3871\n"
          ]
        }
      ]
    },
    {
      "cell_type": "markdown",
      "source": [
        "# 8. Update config to link Agent to Agentspace"
      ],
      "metadata": {
        "id": "0kVuqBnZtnKm"
      }
    },
    {
      "cell_type": "code",
      "source": [
        "%%bash\n",
        "export PROJECT_NUMBER=\"862721868538\"\n",
        "export REASONING_ENGINE=\"projects/862721868538/locations/us-central1/reasoningEngines/6856317016299536384\"\n",
        "export DISPLAY_NAME=\"Dice Agent\"\n",
        "export DESCRIPTION=\"Roll dice and track results.\"\n",
        "export TOOL_DESCRIPTION=\"The agent rolls dice and tracks the roll results.\"\n",
        "export AGENT_ID=\"dice_agent\"\n",
        "export AS_APP=\"itsm-agent-dogfood_1742417292379\"\n",
        "export AUTH_ID=\"madeup-id-123\"\n",
        "\n",
        "curl -X POST \\\n",
        "  -H \"Authorization: Bearer $(gcloud auth print-access-token)\" \\\n",
        "  -H \"Content-Type: application/json\" \\\n",
        "  -H \"X-Goog-User-Project: ${PROJECT_NUMBER}\" \\\n",
        "https://discoveryengine.googleapis.com/v1alpha/projects/${PROJECT_NUMBER}/locations/global/collections/default_collection/engines/${AS_APP}/assistants/default_assistant/agents \\\n",
        "  -d '{\n",
        "      \"displayName\": \"'\"${DISPLAY_NAME}\"'\",\n",
        "      \"description\": \"'\"${DESCRIPTION}\"'\",\n",
        "      \"adk_agent_definition\": {\n",
        "        \"tool_settings\": {\n",
        "          \"tool_description\": \"'\"${TOOL_DESCRIPTION}\"'\"\n",
        "        },\n",
        "        \"provisioned_reasoning_engine\": {\n",
        "          \"reasoning_engine\":\n",
        "            \"'\"${REASONING_ENGINE}\"'\"\n",
        "        },\n",
        "        \"authorizations\": [\n",
        "          \"projects/'\"${PROJECT_NUMBER}\"'/locations/global/authorizations/'\"${AUTH_ID}\"'\"\n",
        "        ]\n",
        "      }\n",
        "  }'"
      ],
      "metadata": {
        "id": "TbMxxXI6q8j5",
        "colab": {
          "base_uri": "https://localhost:8080/"
        },
        "outputId": "5f8d1f54-0c92-4be7-dc96-63b12152ceac"
      },
      "execution_count": null,
      "outputs": [
        {
          "output_type": "stream",
          "name": "stdout",
          "text": [
            "{\n",
            "  \"name\": \"projects/862721868538/locations/global/collections/default_collection/engines/itsm-agent-dogfood_1742417292379/assistants/default_assistant/agents/1107892644173037518\",\n",
            "  \"displayName\": \"Dice Agent\",\n",
            "  \"description\": \"Roll dice and track results.\",\n",
            "  \"adkAgentDefinition\": {\n",
            "    \"toolSettings\": {\n",
            "      \"toolDescription\": \"The agent rolls dice and tracks the roll results.\"\n",
            "    },\n",
            "    \"provisionedReasoningEngine\": {\n",
            "      \"reasoningEngine\": \"projects/862721868538/locations/us-central1/reasoningEngines/6856317016299536384\"\n",
            "    },\n",
            "    \"authorizations\": [\n",
            "      \"projects/862721868538/locations/global/authorizations/madeup-id-123\"\n",
            "    ]\n",
            "  }\n",
            "}\n"
          ]
        },
        {
          "output_type": "stream",
          "name": "stderr",
          "text": [
            "  % Total    % Received % Xferd  Average Speed   Time    Time     Time  Current\n",
            "                                 Dload  Upload   Total   Spent    Left  Speed\n",
            "\r  0     0    0     0    0     0      0      0 --:--:-- --:--:-- --:--:--     0\r100  1206    0   657  100   549   3389   2832 --:--:-- --:--:-- --:--:--  6248\n"
          ]
        }
      ]
    },
    {
      "cell_type": "markdown",
      "source": [
        "# 9. Try new Agentspace UI\n",
        "1. Ensure that `Vertex AI API` and `Discovery Engine API` are enabled in your project and that Discovery Engine service account has `Vertex AI User` permission. If you cannot find it in IAM, check the `Include Google-provided role grants`.\n",
        "2. Open up the Agentspace app in GCP console\n",
        "3. From left menu, click `Integration`\n",
        "4. Open the URL provided\n",
        "5. From left menu, select the agent deployed"
      ],
      "metadata": {
        "id": "4HE5huJhyVuA"
      }
    },
    {
      "cell_type": "markdown",
      "source": [
        "#10. More Operations\n",
        "To view, list, update or delete your configurations, see https://drive.google.com/file/d/1BSbt_UUNdzy5YvEVuDez7RihMdJ6pbul/view?resourcekey=0-IYbPfqERhbtRzSu_gvHy6A"
      ],
      "metadata": {
        "id": "QnAr4u3xxIEL"
      }
    },
    {
      "cell_type": "code",
      "source": [
        "%%bash\n",
        "export PROJECT_NUMBER=\"862721868538\"\n",
        "export AUTH_ID=\"madeup-id-123\"\n",
        "\n",
        "curl -X DELETE \\\n",
        "  -H \"Authorization: Bearer $(gcloud auth print-access-token)\" \\\n",
        "  -H \"Content-Type: application/json\" \\\n",
        "  -H \"X-Goog-User-Project: ${PROJECT_NUMBER}\" \\\n",
        "https://discoveryengine.googleapis.com/v1alpha/projects/${PROJECT_NUMBER}/locations/global/authorizations/${AUTH_ID}"
      ],
      "metadata": {
        "colab": {
          "base_uri": "https://localhost:8080/"
        },
        "id": "3akHSw5iCOcK",
        "outputId": "ecea2446-a737-4d03-b473-81eccb6892d4"
      },
      "execution_count": null,
      "outputs": [
        {
          "output_type": "stream",
          "name": "stdout",
          "text": [
            "{}\n"
          ]
        },
        {
          "output_type": "stream",
          "name": "stderr",
          "text": [
            "  % Total    % Received % Xferd  Average Speed   Time    Time     Time  Current\n",
            "                                 Dload  Upload   Total   Spent    Left  Speed\n",
            "\r  0     0    0     0    0     0      0      0 --:--:-- --:--:-- --:--:--     0\r100     3    0     3    0     0      6      0 --:--:-- --:--:-- --:--:--     6\r100     3    0     3    0     0      6      0 --:--:-- --:--:-- --:--:--     6\n"
          ]
        }
      ]
    }
  ],
  "metadata": {
    "colab": {
      "provenance": [],
      "include_colab_link": true
    },
    "kernelspec": {
      "display_name": "Python 3",
      "name": "python3"
    },
    "language_info": {
      "name": "python"
    }
  },
  "nbformat": 4,
  "nbformat_minor": 0
}